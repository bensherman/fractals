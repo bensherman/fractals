{
 "cells": [
  {
   "cell_type": "code",
   "execution_count": 1,
   "metadata": {},
   "outputs": [],
   "source": [
    "%matplotlib notebook\n",
    "\n",
    "import math\n",
    "\n",
    "import matplotlib.pyplot as plt\n",
    "import numpy as np\n",
    "from ipycanvas import Canvas, hold_canvas\n"
   ]
  },
  {
   "cell_type": "code",
   "execution_count": 2,
   "metadata": {
    "scrolled": true
   },
   "outputs": [],
   "source": [
    "def z_next(z, c):\n",
    "    return z * z + c"
   ]
  },
  {
   "cell_type": "code",
   "execution_count": 3,
   "metadata": {},
   "outputs": [],
   "source": [
    " def iter_z(c):\n",
    "    iters = 0\n",
    "    z = c\n",
    "\n",
    "    for _ in range(100):\n",
    "        if math.isnan(z.real):\n",
    "            return iters\n",
    "        z = z_next(z, c)\n",
    "        iters += 1\n",
    "    return False"
   ]
  },
  {
   "cell_type": "code",
   "execution_count": 4,
   "metadata": {},
   "outputs": [],
   "source": [
    "def mandlebrot(zoom=.5, x=0, y=0, width=200, height=200):\n",
    "    left = x - 1/zoom\n",
    "    right = x + 1/zoom\n",
    "    top = y + 1/zoom\n",
    "    bottom = y - 1/zoom\n",
    "    rows = np.linspace(top, bottom, height)\n",
    "    cols = np.linspace(left, right, width)\n",
    "    matrix = []\n",
    "    for row in rows:\n",
    "        matrix.append([])\n",
    "        for col in cols:\n",
    "            matrix[-1].append(iter_z(complex(col, row)))\n",
    "    return matrix"
   ]
  },
  {
   "cell_type": "code",
   "execution_count": 10,
   "metadata": {},
   "outputs": [],
   "source": [
    "def render(matrix):\n",
    "    pal = palette()\n",
    "    p = lambda x: pal[x%len(pal)]\n",
    "        \n",
    "    canvas = Canvas(width=len(matrix[0]), height=len(matrix))\n",
    "    with hold_canvas(canvas):\n",
    "        for y, row in enumerate(matrix):\n",
    "            for x, column in enumerate(row):\n",
    "                if column:\n",
    "                    canvas.fill_style = p(column)\n",
    "                else:\n",
    "                    canvas.fill_style = p(0)            \n",
    "                canvas.fill_rect(x, y, 1)\n",
    "    return canvas"
   ]
  },
  {
   "cell_type": "code",
   "execution_count": 11,
   "metadata": {},
   "outputs": [],
   "source": [
    "def gradient(start, stop, steps=10):\n",
    "    r_start, g_start, b_start = rgb_split(start)\n",
    "    r_stop, g_stop, b_stop = rgb_split(stop)\n",
    "    r_grad = np.linspace(r_start, r_stop, steps, dtype=int)\n",
    "    g_grad = np.linspace(g_start, g_stop, steps, dtype=int)\n",
    "    b_grad = np.linspace(b_start, b_stop, steps, dtype=int)\n",
    "    rgb = zip(r_grad, g_grad, b_grad)\n",
    "    return [f\"rgb{i}\" for i in rgb]\n",
    "   \n",
    "def rgb_split(color):\n",
    "    # input looks like looks like 'rgb(1,2,3)'\n",
    "    # output is (1,2,3)\n",
    "    # avert your eyes\n",
    "    return eval(color.lstrip(\"rgb\"))"
   ]
  },
  {
   "cell_type": "code",
   "execution_count": 50,
   "metadata": {},
   "outputs": [],
   "source": [
    "def palette():\n",
    "    p = ['rgb(0,0,0)']\n",
    "    p += gradient('rgb(0, 0, 0)', 'rgb(255, 0, 255)', 100)\n",
    "    p = p + list(reversed(p))\n",
    "    return p"
   ]
  },
  {
   "cell_type": "code",
   "execution_count": 53,
   "metadata": {},
   "outputs": [
    {
     "data": {
      "application/vnd.jupyter.widget-view+json": {
       "model_id": "9808a53bc5b54a848bbeb62e667c267c",
       "version_major": 2,
       "version_minor": 0
      },
      "text/plain": [
       "Canvas(height=1000, width=1000)"
      ]
     },
     "metadata": {},
     "output_type": "display_data"
    }
   ],
   "source": [
    "render(mandlebrot(zoom=5, x=-.75, y=.25, width=1000, height=1000))"
   ]
  },
  {
   "cell_type": "code",
   "execution_count": null,
   "metadata": {},
   "outputs": [],
   "source": []
  }
 ],
 "metadata": {
  "kernelspec": {
   "display_name": "Python 3",
   "language": "python",
   "name": "python3"
  },
  "language_info": {
   "codemirror_mode": {
    "name": "ipython",
    "version": 3
   },
   "file_extension": ".py",
   "mimetype": "text/x-python",
   "name": "python",
   "nbconvert_exporter": "python",
   "pygments_lexer": "ipython3",
   "version": "3.8.5"
  }
 },
 "nbformat": 4,
 "nbformat_minor": 4
}
