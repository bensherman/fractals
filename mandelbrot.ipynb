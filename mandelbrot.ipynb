{
 "cells": [
  {
   "cell_type": "code",
   "execution_count": 1,
   "metadata": {},
   "outputs": [],
   "source": [
    "%matplotlib notebook\n",
    "import matplotlib.pyplot as plt\n",
    "import numpy as np\n",
    "import math\n",
    "from ipycanvas import Canvas, hold_canvas\n"
   ]
  },
  {
   "cell_type": "code",
   "execution_count": 2,
   "metadata": {
    "scrolled": true
   },
   "outputs": [],
   "source": [
    "def z_next(z, c):\n",
    "    return z * z + c"
   ]
  },
  {
   "cell_type": "code",
   "execution_count": 3,
   "metadata": {},
   "outputs": [],
   "source": [
    " def iter_z(c):\n",
    "    iters = 0\n",
    "    z = c\n",
    "\n",
    "    for _ in range(100):\n",
    "        if math.isnan(z.real):\n",
    "            return iters\n",
    "        z = z_next(z, c)\n",
    "        iters += 1\n",
    "    return False"
   ]
  },
  {
   "cell_type": "code",
   "execution_count": 4,
   "metadata": {},
   "outputs": [],
   "source": [
    "def mandlebrot(zoom=.5, x=0, y=0, width=80, height=25):\n",
    "    left = x - 1/zoom\n",
    "    right = x + 1/zoom\n",
    "    top = y + 1/zoom\n",
    "    bottom = y - 1/zoom\n",
    "    rows = np.linspace(top, bottom, height)\n",
    "    cols = np.linspace(left, right, width)\n",
    "    for row in rows:\n",
    "        for col in cols:            \n",
    "            if iter_z(complex(col, row)):\n",
    "                print(\" \", end=\"\")\n",
    "            else:\n",
    "                print(\".\", end=\"\")\n",
    "        print()\n"
   ]
  },
  {
   "cell_type": "code",
   "execution_count": 5,
   "metadata": {},
   "outputs": [],
   "source": [
    "def mandlebrot_img(zoom=.5, x=0, y=0, width=200, height=200):\n",
    "    left = x - 1/zoom\n",
    "    right = x + 1/zoom\n",
    "    top = y + 1/zoom\n",
    "    bottom = y - 1/zoom\n",
    "    canvas = Canvas(width=width, height=height)\n",
    "    rows = np.linspace(top, bottom, height)\n",
    "    cols = np.linspace(left, right, width)\n",
    "    cursor_x = 0\n",
    "    cursor_y = 0\n",
    "    with hold_canvas(canvas):\n",
    "        for row in rows:\n",
    "            for col in cols:\n",
    "                # print(f\"cursor_x, cursor_y {cursor_x} {cursor_y}\")\n",
    "                iters = iter_z(complex(col, row))\n",
    "                if iters:\n",
    "                    hexgray = f\"{iters%255:0{2}x}\"\n",
    "                    color = f\"#{hexgray}{hexgray}{hexgray}\"\n",
    "                    canvas.fill_style = color\n",
    "                else:\n",
    "                    canvas.fill_style = 'black'\n",
    "\n",
    "                canvas.fill_rect(cursor_x, cursor_y, 1)\n",
    "                cursor_x += 1\n",
    "            cursor_x = 0\n",
    "            cursor_y += 1    \n",
    "    return canvas"
   ]
  },
  {
   "cell_type": "code",
   "execution_count": 6,
   "metadata": {},
   "outputs": [
    {
     "data": {
      "application/vnd.jupyter.widget-view+json": {
       "model_id": "f76d6339925f4cf9a43f9a4008ed3965",
       "version_major": 2,
       "version_minor": 0
      },
      "text/plain": [
       "Canvas(height=1000, width=1000)"
      ]
     },
     "metadata": {},
     "output_type": "display_data"
    }
   ],
   "source": [
    "mandlebrot_img(zoom=5, x=-.75, y=.25, width=1000, height=1000)"
   ]
  },
  {
   "cell_type": "code",
   "execution_count": null,
   "metadata": {},
   "outputs": [],
   "source": []
  }
 ],
 "metadata": {
  "kernelspec": {
   "display_name": "Python 3",
   "language": "python",
   "name": "python3"
  },
  "language_info": {
   "codemirror_mode": {
    "name": "ipython",
    "version": 3
   },
   "file_extension": ".py",
   "mimetype": "text/x-python",
   "name": "python",
   "nbconvert_exporter": "python",
   "pygments_lexer": "ipython3",
   "version": "3.8.5"
  }
 },
 "nbformat": 4,
 "nbformat_minor": 4
}
