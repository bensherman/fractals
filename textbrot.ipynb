{
 "cells": [
  {
   "cell_type": "code",
   "execution_count": 1,
   "metadata": {},
   "outputs": [],
   "source": [
    "%matplotlib notebook\n",
    "import matplotlib.pyplot as plt\n",
    "import numpy as np\n",
    "import math"
   ]
  },
  {
   "cell_type": "code",
   "execution_count": 2,
   "metadata": {
    "scrolled": true
   },
   "outputs": [],
   "source": [
    "def z_next(z, c):\n",
    "    return z * z + c"
   ]
  },
  {
   "cell_type": "code",
   "execution_count": 3,
   "metadata": {},
   "outputs": [],
   "source": [
    " def iter_z(c):\n",
    "    iters = 0\n",
    "    z = c\n",
    "\n",
    "    for _ in range(100):\n",
    "        if math.isnan(z.real):\n",
    "            return iters\n",
    "        z = z_next(z, c)\n",
    "        iters += 1\n",
    "    return False"
   ]
  },
  {
   "cell_type": "code",
   "execution_count": 21,
   "metadata": {},
   "outputs": [],
   "source": [
    "def mandlebrot(zoom=.5, x=0, y=0, width=80, height=25):\n",
    "    left = x - 1/zoom\n",
    "    right = x + 1/zoom\n",
    "    top = y + 1/zoom\n",
    "    bottom = y - 1/zoom\n",
    "    rows = np.linspace(top, bottom, height)\n",
    "    cols = np.linspace(left, right, width)\n",
    "    for row in rows:\n",
    "        for col in cols:            \n",
    "            if iter_z(complex(col, row)):\n",
    "                print(\" \", end=\"\")\n",
    "            else:\n",
    "                print(\".\", end=\"\")\n",
    "        print()\n"
   ]
  },
  {
   "cell_type": "code",
   "execution_count": 22,
   "metadata": {},
   "outputs": [
    {
     "name": "stdout",
     "output_type": "stream",
     "text": [
      "                                  .   ..........................................\n",
      "                                   .............................................\n",
      "                            ....................................................\n",
      "                            ....................................................\n",
      "                         .......................................................\n",
      "                        ........................................................\n",
      "..    ..                ........................................................\n",
      "............ .       ...........................................................\n",
      "...............      ...........................................................\n",
      "..................   ...........................................................\n",
      "...................  ...........................................................\n",
      "................................................................................\n",
      "................................................................................\n",
      "................................................................................\n",
      "...................  ...........................................................\n",
      "..................   ...........................................................\n",
      "...............      ...........................................................\n",
      "............ .       ...........................................................\n",
      "..    ..                ........................................................\n",
      "                        ........................................................\n",
      "                         .......................................................\n",
      "                            ....................................................\n",
      "                            ....................................................\n",
      "                                   .............................................\n",
      "                                  .   ..........................................\n"
     ]
    }
   ],
   "source": [
    "mandlebrot(zoom = 2, x = -.5)"
   ]
  },
  {
   "cell_type": "code",
   "execution_count": null,
   "metadata": {},
   "outputs": [],
   "source": []
  }
 ],
 "metadata": {
  "kernelspec": {
   "display_name": "Python 3",
   "language": "python",
   "name": "python3"
  },
  "language_info": {
   "codemirror_mode": {
    "name": "ipython",
    "version": 3
   },
   "file_extension": ".py",
   "mimetype": "text/x-python",
   "name": "python",
   "nbconvert_exporter": "python",
   "pygments_lexer": "ipython3",
   "version": "3.8.5"
  }
 },
 "nbformat": 4,
 "nbformat_minor": 4
}
